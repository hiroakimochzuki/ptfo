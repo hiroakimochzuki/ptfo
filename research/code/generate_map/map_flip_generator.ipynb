{
 "cells": [
  {
   "cell_type": "code",
   "execution_count": 1,
   "metadata": {},
   "outputs": [
    {
     "name": "stdout",
     "output_type": "stream",
     "text": [
      "INFO: Pandarallel will run on 10 workers.\n",
      "INFO: Pandarallel will use standard multiprocessing data transfer (pipe) to transfer data between the main process and workers.\n",
      "\n",
      "WARNING: You are on Windows. If you detect any issue with pandarallel, be sure you checked out the Troubleshooting page:\n",
      "https://nalepae.github.io/pandarallel/troubleshooting/\n"
     ]
    }
   ],
   "source": [
    "import pickle\n",
    "import numpy as np\n",
    "\n",
    "from mlmodel.benchmark_io import save_mapf_benchmark\n",
    "\n",
    "import time\n",
    "import glob\n",
    "import pickle\n",
    "import numpy as np\n",
    "import pandas as pd\n",
    "from pandarallel import pandarallel\n",
    "# from tqdm import tqdm\n",
    "\n",
    "from ifloat.usecase.area_evaluator import SplittingGridEvaluator, WholeGridEvaluator, IAreaEvaluator\n",
    "from ifloat.util.dependency import Dependency\n",
    "from ifloat.infra.visualizer import visualize_floor, visualize_grid_and_sg\n",
    "\n",
    "injector = Dependency()\n",
    "pandarallel.initialize(progress_bar=True)"
   ]
  },
  {
   "cell_type": "code",
   "execution_count": 2,
   "metadata": {},
   "outputs": [],
   "source": [
    "with open(\"../data_set/layout_set/9layout_4/layout_set.pkl\", \"rb\") as f:\n",
    "    _, area, routes = pickle.load(f)\n",
    "\n",
    "\n",
    "\n",
    "with open(\"../data_set/training/randam/9map_4/facilities_test_0.pkl\",\"rb\")as f:\n",
    "    facility_test_1=pickle.load(f)\n",
    "    \n",
    "with open(\"../data_set/training/randam/9map_4/facilities_test_1.pkl\",\"rb\")as f:\n",
    "    facility_test_2=pickle.load(f)\n"
   ]
  },
  {
   "cell_type": "code",
   "execution_count": 3,
   "metadata": {},
   "outputs": [
    {
     "name": "stdout",
     "output_type": "stream",
     "text": [
      "50000\n"
     ]
    }
   ],
   "source": [
    "for i in range(50):\n",
    "    with open(f\"../data_set/training/randam/9map_4/facilities_test_{i}.pkl\",\"rb\")as f:\n",
    "        facility_test_i=pickle.load(f)\n",
    "    if i == 0:\n",
    "        facility_test=facility_test_i\n",
    "    else:\n",
    "        facility_test=facility_test+facility_test_i\n",
    "print(len(facility_test))\n",
    "\n",
    "with open(\"../data_set/training/randam/9map_4/all_facility.pkl\",\"wb\") as f:\n",
    "    pickle.dump(facility_test,f)"
   ]
  },
  {
   "cell_type": "code",
   "execution_count": 4,
   "metadata": {},
   "outputs": [],
   "source": [
    "def make_dataset(area,facility,routes):#マップデータのうちマップ、スタート、ゴールを別々に格納する\n",
    "    evaluator = injector.resolve(WholeGridEvaluator)\n",
    "\n",
    "    map_only_data=[]\n",
    "    starts_data=[]\n",
    "    goals_data=[]\n",
    "    \n",
    "    for i in range(len(facility)) :\n",
    "        \n",
    "        m, starts, goals = evaluator.create_grid(area, facility[i], routes)\n",
    "        \n",
    "        map_only_data.append(m)\n",
    "        starts_data.append(starts)\n",
    "        goals_data.append(goals)\n",
    "\n",
    "        # visualize_grid_and_sg(m, starts, goals, size_inch=5.0)\n",
    "        \n",
    "    return map_only_data,starts_data,goals_data"
   ]
  },
  {
   "cell_type": "code",
   "execution_count": 11,
   "metadata": {},
   "outputs": [],
   "source": [
    "only_map_data,starts,goals=make_dataset(area,facility_test,routes)"
   ]
  },
  {
   "cell_type": "code",
   "execution_count": 6,
   "metadata": {},
   "outputs": [],
   "source": [
    "with open(\"../data_set/training/randam/9map_4/original_map.pkl\",\"wb\") as f:\n",
    "    pickle.dump(only_map_data,f)"
   ]
  },
  {
   "cell_type": "code",
   "execution_count": 7,
   "metadata": {},
   "outputs": [
    {
     "name": "stdout",
     "output_type": "stream",
     "text": [
      "(50000, 18, 18)\n"
     ]
    }
   ],
   "source": [
    "# with open(\"../data_set/training/72bit_cost_only_m.pkl\", \"rb\") as f:\n",
    "#     only_map_data = pickle.load(f)\n",
    "    \n",
    "only_map_data=np.array(only_map_data)\n",
    "print(only_map_data.shape)"
   ]
  },
  {
   "cell_type": "code",
   "execution_count": null,
   "metadata": {},
   "outputs": [],
   "source": [
    "# with open(\"../data_set/training/randam/9map_472bit_cost_only_m.pkl\",\"rb\") as f:\n",
    "#     only_map_data=pickle.load(f)"
   ]
  },
  {
   "cell_type": "code",
   "execution_count": 8,
   "metadata": {},
   "outputs": [],
   "source": [
    "map_lr=[]\n",
    "s_lr=[]\n",
    "g_lr=[]\n",
    "map_ud=[]\n",
    "s_ud=[]\n",
    "g_ud=[]\n",
    "map_lr_ud=[]\n",
    "s_lr_ud=[]\n",
    "g_lr_ud=[]\n",
    "\n",
    "map_all=[]\n",
    "s_all=[]\n",
    "g_all=[]\n",
    "number,height, width = only_map_data.shape\n",
    "\n",
    "for i in range(len(only_map_data)):\n",
    "    \n",
    "\n",
    "    map_data = np.array(only_map_data[i])\n",
    "    start=starts[i]\n",
    "    goal=goals[i]\n",
    "\n",
    "# 左右反転\n",
    "    flipped_lr = np.flip(map_data, axis=1)\n",
    "    start_lr = [(x, height - 1 - y) for x, y in start]\n",
    "    goal_lr = [(x, height - 1 - y) for x, y in goal]\n",
    "# 上下反転\n",
    "    flipped_ud = np.flip(map_data, axis=0)\n",
    "    \n",
    "    start_ud = [(width - 1 - x, y) for x, y in start]\n",
    "    goal_ud = [(width - 1 - x, y) for x, y in goal]\n",
    "# 左右上下反転（180度回転に相当）\n",
    "    flipped_lr_ud = np.flip(flipped_lr, axis=0)\n",
    "    start_lr_ud = [(width - 1 - x, height - 1 - y) for x, y in start]\n",
    "    goal_lr_ud = [(width - 1 - x, height - 1 - y) for x, y in goal]\n",
    "\n",
    "    map_lr.append(flipped_lr)\n",
    "    map_ud.append(flipped_ud)\n",
    "    map_lr_ud.append(flipped_lr_ud)\n",
    "    \n",
    "    s_lr.append(start_lr)\n",
    "    g_lr.append(goal_lr)\n",
    "    \n",
    "    s_ud.append(start_ud)\n",
    "    g_ud.append(goal_ud)\n",
    "    s_lr_ud.append(start_lr_ud)\n",
    "    g_lr_ud.append(goal_lr_ud)\n",
    "    \n",
    "    s_all.append(start)\n",
    "    s_all.append(start_lr)\n",
    "    s_all.append(start_ud)\n",
    "    s_all.append(start_lr_ud)\n",
    "    \n",
    "    g_all.append(goal)\n",
    "    g_all.append(goal_lr)\n",
    "    g_all.append(goal_ud)\n",
    "    g_all.append(goal_lr_ud)\n",
    "    \n",
    "    map_all.append(map_data)\n",
    "    map_all.append(flipped_lr)\n",
    "    map_all.append(flipped_ud)\n",
    "    map_all.append(flipped_lr_ud)\n",
    "\n",
    "with open(\"../data_set/training/randam/9map_4/original_map.pkl\",\"wb\") as f:\n",
    "    pickle.dump(only_map_data,f)\n",
    "    \n",
    "with open(\"../data_set/training/randam/9map_4/flip_lr_map.pkl\",\"wb\") as f:\n",
    "    pickle.dump(map_lr,f)\n",
    "    \n",
    "with open(\"../data_set/training/randam/9map_4/flip_ud_map.pkl\",\"wb\") as f:\n",
    "    pickle.dump(map_ud,f)\n",
    "    \n",
    "with open(\"../data_set/training/randam/9map_4/flip_lr_ud_map.pkl\",\"wb\") as f:\n",
    "    pickle.dump(map_lr_ud,f)\n",
    "    \n",
    "with open(\"../data_set/training/randam/9map_4/all_map.pkl\",\"wb\") as f:\n",
    "    pickle.dump(map_all,f)\n",
    "    \n",
    "with open(\"../data_set/training/randam/9map_4/original_start.pkl\",\"wb\") as f:\n",
    "    pickle.dump(starts,f)\n",
    "    \n",
    "with open(\"../data_set/training/randam/9map_4/flip_lr_start.pkl\",\"wb\") as f:\n",
    "    pickle.dump(s_lr,f)\n",
    "    \n",
    "with open(\"../data_set/training/randam/9map_4/flip_ud_start.pkl\",\"wb\") as f:\n",
    "    pickle.dump(s_ud,f)\n",
    "    \n",
    "with open(\"../data_set/training/randam/9map_4/flip_lr_ud_start.pkl\",\"wb\") as f:\n",
    "    pickle.dump(s_lr_ud,f)\n",
    "    \n",
    "with open(\"../data_set/training/randam/9map_4/all_start.pkl\",\"wb\") as f:\n",
    "    pickle.dump(s_all,f)\n",
    "\n",
    "with open(\"../data_set/training/randam/9map_4/original_goal.pkl\",\"wb\") as f:\n",
    "    pickle.dump(goals,f)\n",
    "    \n",
    "with open(\"../data_set/training/randam/9map_4/flip_lr_goal.pkl\",\"wb\") as f:\n",
    "    pickle.dump(g_lr,f)\n",
    "    \n",
    "with open(\"../data_set/training/randam/9map_4/flip_ud_goal.pkl\",\"wb\") as f:\n",
    "    pickle.dump(g_ud,f)\n",
    "    \n",
    "with open(\"../data_set/training/randam/9map_4/flip_lr_ud_goal.pkl\",\"wb\") as f:\n",
    "    pickle.dump(g_lr_ud,f)\n",
    "    \n",
    "with open(\"../data_set/training/randam/9map_4/all_goal.pkl\",\"wb\") as f:\n",
    "    pickle.dump(g_all,f)"
   ]
  },
  {
   "cell_type": "code",
   "execution_count": 5,
   "metadata": {},
   "outputs": [
    {
     "name": "stdout",
     "output_type": "stream",
     "text": [
      "3000\n"
     ]
    }
   ],
   "source": [
    "for i in range(3):\n",
    "    with open(f\"../data_set/test/9map/facilities_test_{i}.pkl.pkl\",\"rb\")as f:\n",
    "        facility_test_i=pickle.load(f)\n",
    "    if i == 0:\n",
    "        facility_test=facility_test_i\n",
    "    else:\n",
    "        facility_test=facility_test+facility_test_i\n",
    "print(len(facility_test))\n",
    "\n",
    "with open(\"../data_set/test/9map/all_facility.pkl\",\"wb\") as f:\n",
    "    pickle.dump(facility_test,f)"
   ]
  },
  {
   "cell_type": "code",
   "execution_count": 9,
   "metadata": {},
   "outputs": [],
   "source": [
    "# with open(\"../data_set/test/9map/72bit_cost_only_m.pkl\", \"rb\") as f:\n",
    "#     only_map_data = pickle.load(f)\n",
    "# only_map_data=np.array(only_map_data)"
   ]
  },
  {
   "cell_type": "code",
   "execution_count": 12,
   "metadata": {},
   "outputs": [],
   "source": [
    "# with open(\"../data_set/test/9map/facilities_test_0.pkl\",\"rb\")as f:\n",
    "#     facility_test=pickle.load(f)\n",
    "    \n",
    "    \n",
    "only_map_data,starts,goals=make_dataset(area,facility_test,routes)\n",
    "\n",
    "only_map_data=np.array(only_map_data)"
   ]
  },
  {
   "cell_type": "code",
   "execution_count": 13,
   "metadata": {},
   "outputs": [
    {
     "name": "stdout",
     "output_type": "stream",
     "text": [
      "2\n"
     ]
    }
   ],
   "source": [
    "print(len(starts[0]))"
   ]
  },
  {
   "cell_type": "code",
   "execution_count": 15,
   "metadata": {},
   "outputs": [],
   "source": [
    "\n",
    "map_lr=[]\n",
    "s_lr=[]\n",
    "g_lr=[]\n",
    "map_ud=[]\n",
    "s_ud=[]\n",
    "g_ud=[]\n",
    "map_lr_ud=[]\n",
    "s_lr_ud=[]\n",
    "g_lr_ud=[]\n",
    "\n",
    "map_all=[]\n",
    "s_all=[]\n",
    "g_all=[]\n",
    "number,height, width = only_map_data.shape\n",
    "\n",
    "for i in range(len(only_map_data)):\n",
    "    \n",
    "\n",
    "    map_data = np.array(only_map_data[i])\n",
    "    start=starts[i]\n",
    "    goal=goals[i]\n",
    "\n",
    "# 左右反転\n",
    "    flipped_lr = np.flip(map_data, axis=1)\n",
    "    start_lr = [(x, height - 1 - y) for x, y in start]\n",
    "    goal_lr = [(x, height - 1 - y) for x, y in goal]\n",
    "# 上下反転\n",
    "    flipped_ud = np.flip(map_data, axis=0)\n",
    "    \n",
    "    start_ud = [(width - 1 - x, y) for x, y in start]\n",
    "    goal_ud = [(width - 1 - x, y) for x, y in goal]\n",
    "# 左右上下反転（180度回転に相当）\n",
    "    flipped_lr_ud = np.flip(flipped_lr, axis=0)\n",
    "    start_lr_ud = [(width - 1 - x, height - 1 - y) for x, y in start]\n",
    "    goal_lr_ud = [(width - 1 - x, height - 1 - y) for x, y in goal]\n",
    "\n",
    "    map_lr.append(flipped_lr)\n",
    "    map_ud.append(flipped_ud)\n",
    "    map_lr_ud.append(flipped_lr_ud)\n",
    "    \n",
    "    s_lr.append(start_lr)\n",
    "    g_lr.append(goal_lr)\n",
    "    \n",
    "    s_ud.append(start_ud)\n",
    "    g_ud.append(goal_ud)\n",
    "    s_lr_ud.append(start_lr_ud)\n",
    "    g_lr_ud.append(goal_lr_ud)\n",
    "    \n",
    "    s_all.append(start)\n",
    "    s_all.append(start_lr)\n",
    "    s_all.append(start_ud)\n",
    "    s_all.append(start_lr_ud)\n",
    "    \n",
    "    g_all.append(goal)\n",
    "    g_all.append(goal_lr)\n",
    "    g_all.append(goal_ud)\n",
    "    g_all.append(goal_lr_ud)\n",
    "    \n",
    "    map_all.append(map_data)\n",
    "    map_all.append(flipped_lr)\n",
    "    map_all.append(flipped_ud)\n",
    "    map_all.append(flipped_lr_ud)\n",
    "\n",
    "with open(\"../data_set/test/randam/9map_2/original_map.pkl\",\"wb\") as f:\n",
    "    pickle.dump(only_map_data,f)\n",
    "    \n",
    "with open(\"../data_set/test/randam/9map_2/flip_lr_map.pkl\",\"wb\") as f:\n",
    "    pickle.dump(map_lr,f)\n",
    "    \n",
    "with open(\"../data_set/test/randam/9map_2/flip_ud_map.pkl\",\"wb\") as f:\n",
    "    pickle.dump(map_ud,f)\n",
    "    \n",
    "with open(\"../data_set/test/randam/9map_2/flip_lr_ud_map.pkl\",\"wb\") as f:\n",
    "    pickle.dump(map_lr_ud,f)\n",
    "    \n",
    "with open(\"../data_set/test/randam/9map_2/all_map.pkl\",\"wb\") as f:\n",
    "    pickle.dump(map_all,f)\n",
    "    \n",
    "with open(\"../data_set/test/randam/9map_2/original_start.pkl\",\"wb\") as f:\n",
    "    pickle.dump(starts,f)\n",
    "    \n",
    "with open(\"../data_set/test/randam/9map_2/flip_lr_start.pkl\",\"wb\") as f:\n",
    "    pickle.dump(s_lr,f)\n",
    "    \n",
    "with open(\"../data_set/test/randam/9map_2/flip_ud_start.pkl\",\"wb\") as f:\n",
    "    pickle.dump(s_ud,f)\n",
    "    \n",
    "with open(\"../data_set/test/randam/9map_2/flip_lr_ud_start.pkl\",\"wb\") as f:\n",
    "    pickle.dump(s_lr_ud,f)\n",
    "    \n",
    "with open(\"../data_set/test/randam/9map_2/all_start.pkl\",\"wb\") as f:\n",
    "    pickle.dump(s_all,f)\n",
    "\n",
    "with open(\"../data_set/test/randam/9map_2/original_goal.pkl\",\"wb\") as f:\n",
    "    pickle.dump(goals,f)\n",
    "    \n",
    "with open(\"../data_set/test/randam/9map_2/flip_lr_goal.pkl\",\"wb\") as f:\n",
    "    pickle.dump(g_lr,f)\n",
    "    \n",
    "with open(\"../data_set/test/randam/9map_2/flip_ud_goal.pkl\",\"wb\") as f:\n",
    "    pickle.dump(g_ud,f)\n",
    "    \n",
    "with open(\"../data_set/test/randam/9map_2/flip_lr_ud_goal.pkl\",\"wb\") as f:\n",
    "    pickle.dump(g_lr_ud,f)\n",
    "    \n",
    "with open(\"../data_set/test/randam/9map_2/all_goal.pkl\",\"wb\") as f:\n",
    "    pickle.dump(g_all,f)"
   ]
  },
  {
   "cell_type": "code",
   "execution_count": 12,
   "metadata": {},
   "outputs": [
    {
     "name": "stdout",
     "output_type": "stream",
     "text": [
      "(18, 18)\n",
      "[(3, 16), (3, 13), (14, 17), (2, 6)]\n"
     ]
    },
    {
     "data": {
      "image/png": "[encoded data removed]",
      "text/plain": [
       "<Figure size 500x500 with 1 Axes>"
      ]
     },
     "metadata": {},
     "output_type": "display_data"
    }
   ],
   "source": [
    "n=9\n",
    "m=np.array(only_map_data[n])\n",
    "print(m.shape)\n",
    "start=starts[n]\n",
    "goal=goals[n]\n",
    "    \n",
    "print(start)    \n",
    "visualize_grid_and_sg(m, start, goal, size_inch=5.0)"
   ]
  }
 ],
 "metadata": {
  "kernelspec": {
   "display_name": ".venv",
   "language": "python",
   "name": "python3"
  },
  "language_info": {
   "codemirror_mode": {
    "name": "ipython",
    "version": 3
   },
   "file_extension": ".py",
   "mimetype": "text/x-python",
   "name": "python",
   "nbconvert_exporter": "python",
   "pygments_lexer": "ipython3",
   "version": "3.11.9"
  }
 },
 "nbformat": 4,
 "nbformat_minor": 2
}
