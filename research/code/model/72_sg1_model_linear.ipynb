{
 "cells": [
  {
   "cell_type": "markdown",
   "metadata": {},
   "source": [
    "コスト出力のモデル作成"
   ]
  },
  {
   "cell_type": "markdown",
   "metadata": {},
   "source": [
    "72size mapで追加特徴量"
   ]
  },
  {
   "cell_type": "code",
   "execution_count": 1,
   "metadata": {},
   "outputs": [],
   "source": [
    "import time\n",
    "import glob\n",
    "import pickle\n",
    "import numpy as np\n",
    "import pandas as pd\n",
    "from pandarallel import pandarallel\n",
    "# from tqdm import tqdm\n",
    "\n",
    "from ifloat.usecase.area_evaluator import SplittingGridEvaluator, WholeGridEvaluator, IAreaEvaluator\n",
    "from ifloat.util.dependency import Dependency\n",
    "from ifloat.infra.visualizer import visualize_floor, visualize_grid_and_sg"
   ]
  },
  {
   "cell_type": "code",
   "execution_count": 2,
   "metadata": {},
   "outputs": [
    {
     "name": "stdout",
     "output_type": "stream",
     "text": [
      "INFO: Pandarallel will run on 10 workers.\n",
      "INFO: Pandarallel will use standard multiprocessing data transfer (pipe) to transfer data between the main process and workers.\n",
      "\n",
      "WARNING: You are on Windows. If you detect any issue with pandarallel, be sure you checked out the Troubleshooting page:\n",
      "https://nalepae.github.io/pandarallel/troubleshooting/\n"
     ]
    }
   ],
   "source": [
    "injector = Dependency()\n",
    "pandarallel.initialize(progress_bar=True)"
   ]
  },
  {
   "cell_type": "code",
   "execution_count": 3,
   "metadata": {},
   "outputs": [],
   "source": [
    "with open(\"../data_set/layout_set/9layout/layout_set.pkl\", \"rb\") as f:\n",
    "    _, area, routes = pickle.load(f)\n",
    "\n",
    "routes = routes[:-1]"
   ]
  },
  {
   "cell_type": "markdown",
   "metadata": {},
   "source": [
    "モデル作成"
   ]
  },
  {
   "cell_type": "code",
   "execution_count": 4,
   "metadata": {},
   "outputs": [
    {
     "name": "stdout",
     "output_type": "stream",
     "text": [
      "INFO: Pandarallel will run on 10 workers.\n",
      "INFO: Pandarallel will use standard multiprocessing data transfer (pipe) to transfer data between the main process and workers.\n",
      "\n",
      "WARNING: You are on Windows. If you detect any issue with pandarallel, be sure you checked out the Troubleshooting page:\n",
      "https://nalepae.github.io/pandarallel/troubleshooting/\n"
     ]
    }
   ],
   "source": [
    "import tensorflow as tf\n",
    "from tensorflow import keras\n",
    "import numpy as np\n",
    "import matplotlib.pyplot as plt\n",
    "from sklearn.model_selection import train_test_split\n",
    "\n",
    "\n",
    "from tensorflow.keras import layers, models\n",
    "from tensorflow.keras.preprocessing.image import ImageDataGenerator\n",
    "\n",
    "from mlmodel.mk_model import make_deep_data\n"
   ]
  },
  {
   "cell_type": "markdown",
   "metadata": {},
   "source": [
    "テストデータのかさまし"
   ]
  },
  {
   "cell_type": "code",
   "execution_count": 5,
   "metadata": {},
   "outputs": [],
   "source": [
    "# train_datagen=ImageDataGenerator(\n",
    "#                                 #  width_shift_range=1/72,\n",
    "#                                 #  height_shift_range=1/72,\n",
    "#                                  horizontal_flip=True,\n",
    "#                                  vertical_flip=True\n",
    "#                                 )       "
   ]
  },
  {
   "cell_type": "code",
   "execution_count": 6,
   "metadata": {},
   "outputs": [],
   "source": [
    "valid_datagen=ImageDataGenerator(\n",
    "                                #  width_shift_range=1/72,\n",
    "                                #  height_shift_range=1/72,\n",
    "                                #  horizontal_flip=True,\n",
    "                                #  vertical_flip=True\n",
    "                                ) "
   ]
  },
  {
   "cell_type": "markdown",
   "metadata": {},
   "source": [
    "マップの読み込み"
   ]
  },
  {
   "cell_type": "markdown",
   "metadata": {},
   "source": [
    "72×72×23"
   ]
  },
  {
   "cell_type": "code",
   "execution_count": 7,
   "metadata": {},
   "outputs": [],
   "source": [
    "# with open(\"data_set/training/72bit_map_data.pkl\", \"rb\") as f:\n",
    "#     map_data = pickle.load(f)\n",
    "    \n",
    "# print(len(map_data))"
   ]
  },
  {
   "cell_type": "markdown",
   "metadata": {},
   "source": [
    "72,72,1"
   ]
  },
  {
   "cell_type": "code",
   "execution_count": 8,
   "metadata": {},
   "outputs": [],
   "source": [
    "# with open(\"data_set/training/72bit_cost_only_m.pkl\", \"rb\") as f:\n",
    "#     only_map_data = pickle.load(f)\n",
    "\n",
    "# only_map_data=np.expand_dims(only_map_data,axis=-1)    \n",
    "\n",
    "# print(len(only_map_data))"
   ]
  },
  {
   "cell_type": "markdown",
   "metadata": {},
   "source": [
    "ラベルの読み込み"
   ]
  },
  {
   "cell_type": "code",
   "execution_count": 9,
   "metadata": {},
   "outputs": [],
   "source": [
    "# # 保存したラベルを読み込む\n",
    "# with open(\"data_set/training_label/lock_sg_2/72bit_cost_labels.pkl\", \"rb\") as f:\n",
    "#     labels = pickle.load(f)\n",
    "\n"
   ]
  },
  {
   "cell_type": "code",
   "execution_count": 10,
   "metadata": {},
   "outputs": [
    {
     "name": "stdout",
     "output_type": "stream",
     "text": [
      "25430\n"
     ]
    }
   ],
   "source": [
    "with open(\"../data_set/training/randam/9map_2/filter_each_conbine_astar_map.pkl\", \"rb\") as f:\n",
    "    only_map_data = pickle.load(f)\n",
    "\n",
    "\n",
    "\n",
    "print(len(only_map_data))\n",
    "with open(\"../data_set/training_label/randam/9map_2/notinf_cost_labels.pkl\", \"rb\") as f:\n",
    "    labels = pickle.load(f)"
   ]
  },
  {
   "cell_type": "code",
   "execution_count": 11,
   "metadata": {},
   "outputs": [
    {
     "name": "stdout",
     "output_type": "stream",
     "text": [
      "(25430, 18, 18, 3) (25430, 1)\n"
     ]
    }
   ],
   "source": [
    "# X_train = np.array(map_data)\n",
    "X_train = np.array(only_map_data)\n",
    "\n",
    "\n",
    "\n",
    "Y_train = np.array(labels)\n",
    "Y_train=np.expand_dims(Y_train,axis=-1)\n",
    "\n",
    "print(X_train.shape,Y_train.shape)"
   ]
  },
  {
   "cell_type": "code",
   "execution_count": 12,
   "metadata": {},
   "outputs": [
    {
     "name": "stdout",
     "output_type": "stream",
     "text": [
      "[35]\n"
     ]
    }
   ],
   "source": [
    "print(Y_train[1])"
   ]
  },
  {
   "cell_type": "code",
   "execution_count": 13,
   "metadata": {},
   "outputs": [],
   "source": [
    "from sklearn.preprocessing import MinMaxScaler\n",
    "import numpy as np\n",
    "scaler = MinMaxScaler()\n",
    "y_train_normalized = scaler.fit_transform(Y_train.reshape(-1, 1))"
   ]
  },
  {
   "cell_type": "code",
   "execution_count": 14,
   "metadata": {},
   "outputs": [],
   "source": [
    "from sklearn.model_selection import train_test_split\n",
    "x_train, x_valid, y_train, y_valid = train_test_split(X_train, y_train_normalized, test_size=0.1)"
   ]
  },
  {
   "cell_type": "code",
   "execution_count": 15,
   "metadata": {},
   "outputs": [
    {
     "name": "stdout",
     "output_type": "stream",
     "text": [
      "(22887, 18, 18, 3) (2543, 18, 18, 3) (22887, 1) (2543, 1)\n"
     ]
    }
   ],
   "source": [
    "print(x_train.shape,x_valid.shape,y_train.shape,y_valid.shape)"
   ]
  },
  {
   "cell_type": "markdown",
   "metadata": {},
   "source": [
    "検証データのロード"
   ]
  },
  {
   "cell_type": "code",
   "execution_count": 16,
   "metadata": {},
   "outputs": [],
   "source": [
    "# with open(\"data_set/valid/72bit_map_data.pkl\", \"rb\") as f:\n",
    "#     valid_in_deep_data= pickle.load(f)"
   ]
  },
  {
   "cell_type": "code",
   "execution_count": 17,
   "metadata": {},
   "outputs": [],
   "source": [
    "# with open(\"data_set/valid/72bit_cost_only_m.pkl\", \"rb\") as f:\n",
    "#     valid_only_m= pickle.load(f)\n",
    "    \n",
    "# valid_only_m=np.expand_dims(valid_only_m,axis=-1)"
   ]
  },
  {
   "cell_type": "code",
   "execution_count": 18,
   "metadata": {},
   "outputs": [],
   "source": [
    "# # X_valid=np.array(valid_in_deep_data)\n",
    "# X_valid=np.array(valid_only_m)\n",
    "\n",
    "# print(len(X_valid))"
   ]
  },
  {
   "cell_type": "markdown",
   "metadata": {},
   "source": [
    "検証データのラベル"
   ]
  },
  {
   "cell_type": "code",
   "execution_count": 19,
   "metadata": {},
   "outputs": [],
   "source": [
    "# with open(\"data_set/valid_label/lock_sg_2/72bit_cost_labels.pkl\", \"rb\") as f:\n",
    "#     valid_labels= pickle.load(f)"
   ]
  },
  {
   "cell_type": "code",
   "execution_count": 20,
   "metadata": {},
   "outputs": [],
   "source": [
    "\n",
    "# valid_labels=np.array(valid_labels)\n",
    "# valid_labels=np.expand_dims(valid_labels,axis=-1)\n",
    "# print(valid_labels[0])"
   ]
  },
  {
   "cell_type": "markdown",
   "metadata": {},
   "source": [
    "データセット"
   ]
  },
  {
   "cell_type": "code",
   "execution_count": 21,
   "metadata": {},
   "outputs": [],
   "source": [
    "# train_generator= train_datagen.flow(\n",
    "#     X_train,\n",
    "#     Y_train,\n",
    "#     batch_size=batch_size\n",
    "# )"
   ]
  },
  {
   "cell_type": "code",
   "execution_count": 22,
   "metadata": {},
   "outputs": [],
   "source": [
    "# valid_generator= valid_datagen.flow(\n",
    "#     X_valid,\n",
    "#     valid_labels,\n",
    "#     batch_size=batch_size\n",
    "# )"
   ]
  },
  {
   "cell_type": "code",
   "execution_count": 23,
   "metadata": {},
   "outputs": [],
   "source": [
    "from keras.models import Model\n",
    "from keras.layers import Input, Conv2D, MaxPooling2D, UpSampling2D,Dropout,BatchNormalization"
   ]
  },
  {
   "cell_type": "code",
   "execution_count": 24,
   "metadata": {},
   "outputs": [
    {
     "name": "stdout",
     "output_type": "stream",
     "text": [
      "X_train shape: (25430, 18, 18, 3)\n"
     ]
    }
   ],
   "source": [
    "# 実際の入力データの形状を確認\n",
    "print(\"X_train shape:\", X_train.shape)\n",
    "\n",
    "# 入力形状を実際のデータに合わせて定義\n",
    "input_map = Input(shape=(18, 18, 3))\n",
    "\n",
    "\n",
    "# モデルの構築\n",
    "x = Conv2D(64, (3, 3), activation='relu', padding='same')(input_map)\n",
    "# x = BatchNormalization()(x)\n",
    "\n",
    "x = MaxPooling2D((2, 2), padding='same')(x)\n",
    "# x = Dropout(0.15)(x)\n",
    "x = Conv2D(128, (3, 3), activation='relu', padding='same')(x)\n",
    "# x = BatchNormalization()(x)\n",
    "\n",
    "x = MaxPooling2D((2, 2), padding='same')(x)\n",
    "# x = Dropout(0.15)(x)\n",
    "x = Conv2D(256, (3, 3), activation='relu', padding='same')(x)\n",
    "# x = BatchNormalization()(x)\n",
    "\n",
    "x = MaxPooling2D((2, 2), padding='same')(x)\n",
    "# x = Dropout(0.15)(x)\n",
    "# x = Conv2D(256, (3, 3), activation='relu', padding='same')(x)\n",
    "# # x = BatchNormalization()(x)\n",
    "# # x = Dropout(0.15)(x)\n",
    "# x = MaxPooling2D((2, 2), padding='same')(x)\n",
    "# x = Conv2D(512, (3, 3), activation='relu', padding='same')(x)\n",
    "# # x = BatchNormalization()(x)\n",
    "# # x = Dropout(0.15)(x)\n",
    "# x = MaxPooling2D((2, 2), padding='same')(x)\n",
    "\n",
    "\n",
    "x = layers.Flatten()(x)\n",
    "x = layers.Dense(1024, activation='relu')(x)\n",
    "x = layers.Dense(512, activation='relu')(x)\n",
    "outputs = layers.Dense(1,activation=\"linear\")(x)  # 回帰出力\n",
    "\n",
    "model = models.Model(inputs=input_map, outputs=outputs)\n",
    "model.compile(optimizer='adam', loss='mse', metrics=['mae'])\n",
    "\n",
    "\n",
    "\n",
    "\n",
    "\n",
    "\n"
   ]
  },
  {
   "cell_type": "code",
   "execution_count": 25,
   "metadata": {},
   "outputs": [],
   "source": [
    "# 中間層出力モデルの作成\n",
    "# layer_names = ['input_layer', 'conv2d',  'max_pooling2d', 'conv2d_1' ,'max_pooling2d_1', 'dense_1']\n",
    "# intermediate_outputs = [model.get_layer(name).output for name in layer_names]\n",
    "# activation_model = models.Model(inputs=model.input, outputs=intermediate_outputs)"
   ]
  },
  {
   "cell_type": "code",
   "execution_count": 26,
   "metadata": {},
   "outputs": [],
   "source": [
    "def get_intermediate_outputs(data):\n",
    "    # データの形状を確認\n",
    "    print(\"Input data shape:\", data.shape)\n",
    "    \n",
    "    \n",
    "    \n",
    "    # 中間層の出力を取得\n",
    "    activations = activation_model.predict(data)\n",
    "    \n",
    "    # 各層の出力を表示\n",
    "    for name, activation in zip(layer_names, activations):\n",
    "        print(f\"\\nLayer {name}:\")\n",
    "        print(f\"Output shape: {activation.shape}\")\n",
    "        print(f\"Output stats: min={np.min(activation):.3f}, max={np.max(activation):.3f}, \"\n",
    "              f\"mean={np.mean(activation):.3f}, std={np.std(activation):.3f}\")\n",
    "    \n",
    "    return activations"
   ]
  },
  {
   "cell_type": "code",
   "execution_count": 27,
   "metadata": {},
   "outputs": [
    {
     "data": {
      "text/html": [
       "<pre style=\"white-space:pre;overflow-x:auto;line-height:normal;font-family:Menlo,'DejaVu Sans Mono',consolas,'Courier New',monospace\"><span style=\"font-weight: bold\">Model: \"functional\"</span>\n",
       "</pre>\n"
      ],
      "text/plain": [
       "\u001b[1mModel: \"functional\"\u001b[0m\n"
      ]
     },
     "metadata": {},
     "output_type": "display_data"
    },
    {
     "data": {
      "text/html": [
       "<pre style=\"white-space:pre;overflow-x:auto;line-height:normal;font-family:Menlo,'DejaVu Sans Mono',consolas,'Courier New',monospace\">┏━━━━━━━━━━━━━━━━━━━━━━━━━━━━━━━━━┳━━━━━━━━━━━━━━━━━━━━━━━━┳━━━━━━━━━━━━━━━┓\n",
       "┃<span style=\"font-weight: bold\"> Layer (type)                    </span>┃<span style=\"font-weight: bold\"> Output Shape           </span>┃<span style=\"font-weight: bold\">       Param # </span>┃\n",
       "┡━━━━━━━━━━━━━━━━━━━━━━━━━━━━━━━━━╇━━━━━━━━━━━━━━━━━━━━━━━━╇━━━━━━━━━━━━━━━┩\n",
       "│ input_layer (<span style=\"color: #0087ff; text-decoration-color: #0087ff\">InputLayer</span>)        │ (<span style=\"color: #00d7ff; text-decoration-color: #00d7ff\">None</span>, <span style=\"color: #00af00; text-decoration-color: #00af00\">18</span>, <span style=\"color: #00af00; text-decoration-color: #00af00\">18</span>, <span style=\"color: #00af00; text-decoration-color: #00af00\">3</span>)      │             <span style=\"color: #00af00; text-decoration-color: #00af00\">0</span> │\n",
       "├─────────────────────────────────┼────────────────────────┼───────────────┤\n",
       "│ conv2d (<span style=\"color: #0087ff; text-decoration-color: #0087ff\">Conv2D</span>)                 │ (<span style=\"color: #00d7ff; text-decoration-color: #00d7ff\">None</span>, <span style=\"color: #00af00; text-decoration-color: #00af00\">18</span>, <span style=\"color: #00af00; text-decoration-color: #00af00\">18</span>, <span style=\"color: #00af00; text-decoration-color: #00af00\">64</span>)     │         <span style=\"color: #00af00; text-decoration-color: #00af00\">1,792</span> │\n",
       "├─────────────────────────────────┼────────────────────────┼───────────────┤\n",
       "│ max_pooling2d (<span style=\"color: #0087ff; text-decoration-color: #0087ff\">MaxPooling2D</span>)    │ (<span style=\"color: #00d7ff; text-decoration-color: #00d7ff\">None</span>, <span style=\"color: #00af00; text-decoration-color: #00af00\">9</span>, <span style=\"color: #00af00; text-decoration-color: #00af00\">9</span>, <span style=\"color: #00af00; text-decoration-color: #00af00\">64</span>)       │             <span style=\"color: #00af00; text-decoration-color: #00af00\">0</span> │\n",
       "├─────────────────────────────────┼────────────────────────┼───────────────┤\n",
       "│ conv2d_1 (<span style=\"color: #0087ff; text-decoration-color: #0087ff\">Conv2D</span>)               │ (<span style=\"color: #00d7ff; text-decoration-color: #00d7ff\">None</span>, <span style=\"color: #00af00; text-decoration-color: #00af00\">9</span>, <span style=\"color: #00af00; text-decoration-color: #00af00\">9</span>, <span style=\"color: #00af00; text-decoration-color: #00af00\">128</span>)      │        <span style=\"color: #00af00; text-decoration-color: #00af00\">73,856</span> │\n",
       "├─────────────────────────────────┼────────────────────────┼───────────────┤\n",
       "│ max_pooling2d_1 (<span style=\"color: #0087ff; text-decoration-color: #0087ff\">MaxPooling2D</span>)  │ (<span style=\"color: #00d7ff; text-decoration-color: #00d7ff\">None</span>, <span style=\"color: #00af00; text-decoration-color: #00af00\">5</span>, <span style=\"color: #00af00; text-decoration-color: #00af00\">5</span>, <span style=\"color: #00af00; text-decoration-color: #00af00\">128</span>)      │             <span style=\"color: #00af00; text-decoration-color: #00af00\">0</span> │\n",
       "├─────────────────────────────────┼────────────────────────┼───────────────┤\n",
       "│ conv2d_2 (<span style=\"color: #0087ff; text-decoration-color: #0087ff\">Conv2D</span>)               │ (<span style=\"color: #00d7ff; text-decoration-color: #00d7ff\">None</span>, <span style=\"color: #00af00; text-decoration-color: #00af00\">5</span>, <span style=\"color: #00af00; text-decoration-color: #00af00\">5</span>, <span style=\"color: #00af00; text-decoration-color: #00af00\">256</span>)      │       <span style=\"color: #00af00; text-decoration-color: #00af00\">295,168</span> │\n",
       "├─────────────────────────────────┼────────────────────────┼───────────────┤\n",
       "│ max_pooling2d_2 (<span style=\"color: #0087ff; text-decoration-color: #0087ff\">MaxPooling2D</span>)  │ (<span style=\"color: #00d7ff; text-decoration-color: #00d7ff\">None</span>, <span style=\"color: #00af00; text-decoration-color: #00af00\">3</span>, <span style=\"color: #00af00; text-decoration-color: #00af00\">3</span>, <span style=\"color: #00af00; text-decoration-color: #00af00\">256</span>)      │             <span style=\"color: #00af00; text-decoration-color: #00af00\">0</span> │\n",
       "├─────────────────────────────────┼────────────────────────┼───────────────┤\n",
       "│ flatten (<span style=\"color: #0087ff; text-decoration-color: #0087ff\">Flatten</span>)               │ (<span style=\"color: #00d7ff; text-decoration-color: #00d7ff\">None</span>, <span style=\"color: #00af00; text-decoration-color: #00af00\">2304</span>)           │             <span style=\"color: #00af00; text-decoration-color: #00af00\">0</span> │\n",
       "├─────────────────────────────────┼────────────────────────┼───────────────┤\n",
       "│ dense (<span style=\"color: #0087ff; text-decoration-color: #0087ff\">Dense</span>)                   │ (<span style=\"color: #00d7ff; text-decoration-color: #00d7ff\">None</span>, <span style=\"color: #00af00; text-decoration-color: #00af00\">1024</span>)           │     <span style=\"color: #00af00; text-decoration-color: #00af00\">2,360,320</span> │\n",
       "├─────────────────────────────────┼────────────────────────┼───────────────┤\n",
       "│ dense_1 (<span style=\"color: #0087ff; text-decoration-color: #0087ff\">Dense</span>)                 │ (<span style=\"color: #00d7ff; text-decoration-color: #00d7ff\">None</span>, <span style=\"color: #00af00; text-decoration-color: #00af00\">512</span>)            │       <span style=\"color: #00af00; text-decoration-color: #00af00\">524,800</span> │\n",
       "├─────────────────────────────────┼────────────────────────┼───────────────┤\n",
       "│ dense_2 (<span style=\"color: #0087ff; text-decoration-color: #0087ff\">Dense</span>)                 │ (<span style=\"color: #00d7ff; text-decoration-color: #00d7ff\">None</span>, <span style=\"color: #00af00; text-decoration-color: #00af00\">1</span>)              │           <span style=\"color: #00af00; text-decoration-color: #00af00\">513</span> │\n",
       "└─────────────────────────────────┴────────────────────────┴───────────────┘\n",
       "</pre>\n"
      ],
      "text/plain": [
       "┏━━━━━━━━━━━━━━━━━━━━━━━━━━━━━━━━━┳━━━━━━━━━━━━━━━━━━━━━━━━┳━━━━━━━━━━━━━━━┓\n",
       "┃\u001b[1m \u001b[0m\u001b[1mLayer (type)                   \u001b[0m\u001b[1m \u001b[0m┃\u001b[1m \u001b[0m\u001b[1mOutput Shape          \u001b[0m\u001b[1m \u001b[0m┃\u001b[1m \u001b[0m\u001b[1m      Param #\u001b[0m\u001b[1m \u001b[0m┃\n",
       "┡━━━━━━━━━━━━━━━━━━━━━━━━━━━━━━━━━╇━━━━━━━━━━━━━━━━━━━━━━━━╇━━━━━━━━━━━━━━━┩\n",
       "│ input_layer (\u001b[38;5;33mInputLayer\u001b[0m)        │ (\u001b[38;5;45mNone\u001b[0m, \u001b[38;5;34m18\u001b[0m, \u001b[38;5;34m18\u001b[0m, \u001b[38;5;34m3\u001b[0m)      │             \u001b[38;5;34m0\u001b[0m │\n",
       "├─────────────────────────────────┼────────────────────────┼───────────────┤\n",
       "│ conv2d (\u001b[38;5;33mConv2D\u001b[0m)                 │ (\u001b[38;5;45mNone\u001b[0m, \u001b[38;5;34m18\u001b[0m, \u001b[38;5;34m18\u001b[0m, \u001b[38;5;34m64\u001b[0m)     │         \u001b[38;5;34m1,792\u001b[0m │\n",
       "├─────────────────────────────────┼────────────────────────┼───────────────┤\n",
       "│ max_pooling2d (\u001b[38;5;33mMaxPooling2D\u001b[0m)    │ (\u001b[38;5;45mNone\u001b[0m, \u001b[38;5;34m9\u001b[0m, \u001b[38;5;34m9\u001b[0m, \u001b[38;5;34m64\u001b[0m)       │             \u001b[38;5;34m0\u001b[0m │\n",
       "├─────────────────────────────────┼────────────────────────┼───────────────┤\n",
       "│ conv2d_1 (\u001b[38;5;33mConv2D\u001b[0m)               │ (\u001b[38;5;45mNone\u001b[0m, \u001b[38;5;34m9\u001b[0m, \u001b[38;5;34m9\u001b[0m, \u001b[38;5;34m128\u001b[0m)      │        \u001b[38;5;34m73,856\u001b[0m │\n",
       "├─────────────────────────────────┼────────────────────────┼───────────────┤\n",
       "│ max_pooling2d_1 (\u001b[38;5;33mMaxPooling2D\u001b[0m)  │ (\u001b[38;5;45mNone\u001b[0m, \u001b[38;5;34m5\u001b[0m, \u001b[38;5;34m5\u001b[0m, \u001b[38;5;34m128\u001b[0m)      │             \u001b[38;5;34m0\u001b[0m │\n",
       "├─────────────────────────────────┼────────────────────────┼───────────────┤\n",
       "│ conv2d_2 (\u001b[38;5;33mConv2D\u001b[0m)               │ (\u001b[38;5;45mNone\u001b[0m, \u001b[38;5;34m5\u001b[0m, \u001b[38;5;34m5\u001b[0m, \u001b[38;5;34m256\u001b[0m)      │       \u001b[38;5;34m295,168\u001b[0m │\n",
       "├─────────────────────────────────┼────────────────────────┼───────────────┤\n",
       "│ max_pooling2d_2 (\u001b[38;5;33mMaxPooling2D\u001b[0m)  │ (\u001b[38;5;45mNone\u001b[0m, \u001b[38;5;34m3\u001b[0m, \u001b[38;5;34m3\u001b[0m, \u001b[38;5;34m256\u001b[0m)      │             \u001b[38;5;34m0\u001b[0m │\n",
       "├─────────────────────────────────┼────────────────────────┼───────────────┤\n",
       "│ flatten (\u001b[38;5;33mFlatten\u001b[0m)               │ (\u001b[38;5;45mNone\u001b[0m, \u001b[38;5;34m2304\u001b[0m)           │             \u001b[38;5;34m0\u001b[0m │\n",
       "├─────────────────────────────────┼────────────────────────┼───────────────┤\n",
       "│ dense (\u001b[38;5;33mDense\u001b[0m)                   │ (\u001b[38;5;45mNone\u001b[0m, \u001b[38;5;34m1024\u001b[0m)           │     \u001b[38;5;34m2,360,320\u001b[0m │\n",
       "├─────────────────────────────────┼────────────────────────┼───────────────┤\n",
       "│ dense_1 (\u001b[38;5;33mDense\u001b[0m)                 │ (\u001b[38;5;45mNone\u001b[0m, \u001b[38;5;34m512\u001b[0m)            │       \u001b[38;5;34m524,800\u001b[0m │\n",
       "├─────────────────────────────────┼────────────────────────┼───────────────┤\n",
       "│ dense_2 (\u001b[38;5;33mDense\u001b[0m)                 │ (\u001b[38;5;45mNone\u001b[0m, \u001b[38;5;34m1\u001b[0m)              │           \u001b[38;5;34m513\u001b[0m │\n",
       "└─────────────────────────────────┴────────────────────────┴───────────────┘\n"
      ]
     },
     "metadata": {},
     "output_type": "display_data"
    },
    {
     "data": {
      "text/html": [
       "<pre style=\"white-space:pre;overflow-x:auto;line-height:normal;font-family:Menlo,'DejaVu Sans Mono',consolas,'Courier New',monospace\"><span style=\"font-weight: bold\"> Total params: </span><span style=\"color: #00af00; text-decoration-color: #00af00\">3,256,449</span> (12.42 MB)\n",
       "</pre>\n"
      ],
      "text/plain": [
       "\u001b[1m Total params: \u001b[0m\u001b[38;5;34m3,256,449\u001b[0m (12.42 MB)\n"
      ]
     },
     "metadata": {},
     "output_type": "display_data"
    },
    {
     "data": {
      "text/html": [
       "<pre style=\"white-space:pre;overflow-x:auto;line-height:normal;font-family:Menlo,'DejaVu Sans Mono',consolas,'Courier New',monospace\"><span style=\"font-weight: bold\"> Trainable params: </span><span style=\"color: #00af00; text-decoration-color: #00af00\">3,256,449</span> (12.42 MB)\n",
       "</pre>\n"
      ],
      "text/plain": [
       "\u001b[1m Trainable params: \u001b[0m\u001b[38;5;34m3,256,449\u001b[0m (12.42 MB)\n"
      ]
     },
     "metadata": {},
     "output_type": "display_data"
    },
    {
     "data": {
      "text/html": [
       "<pre style=\"white-space:pre;overflow-x:auto;line-height:normal;font-family:Menlo,'DejaVu Sans Mono',consolas,'Courier New',monospace\"><span style=\"font-weight: bold\"> Non-trainable params: </span><span style=\"color: #00af00; text-decoration-color: #00af00\">0</span> (0.00 B)\n",
       "</pre>\n"
      ],
      "text/plain": [
       "\u001b[1m Non-trainable params: \u001b[0m\u001b[38;5;34m0\u001b[0m (0.00 B)\n"
      ]
     },
     "metadata": {},
     "output_type": "display_data"
    }
   ],
   "source": [
    "model.summary()"
   ]
  },
  {
   "cell_type": "markdown",
   "metadata": {},
   "source": [
    "モデルの作成とコンパイル"
   ]
  },
  {
   "cell_type": "code",
   "execution_count": 28,
   "metadata": {},
   "outputs": [],
   "source": [
    "# from tensorflow.keras.callbacks import EarlyStopping\n",
    "# early_stopping = EarlyStopping(monitor='val_loss', patience=5, restore_best_weights=True)"
   ]
  },
  {
   "cell_type": "code",
   "execution_count": 29,
   "metadata": {},
   "outputs": [],
   "source": [
    "batch_size=32"
   ]
  },
  {
   "cell_type": "code",
   "execution_count": 30,
   "metadata": {},
   "outputs": [
    {
     "name": "stdout",
     "output_type": "stream",
     "text": [
      "Epoch 1/30\n",
      "\u001b[1m716/716\u001b[0m \u001b[32m━━━━━━━━━━━━━━━━━━━━\u001b[0m\u001b[37m\u001b[0m \u001b[1m29s\u001b[0m 39ms/step - loss: 0.0161 - mae: 0.0627 - val_loss: 6.4382e-04 - val_mae: 0.0170\n",
      "Epoch 2/30\n",
      "\u001b[1m716/716\u001b[0m \u001b[32m━━━━━━━━━━━━━━━━━━━━\u001b[0m\u001b[37m\u001b[0m \u001b[1m28s\u001b[0m 39ms/step - loss: 6.6228e-04 - mae: 0.0181 - val_loss: 7.3707e-04 - val_mae: 0.0215\n",
      "Epoch 3/30\n",
      "\u001b[1m716/716\u001b[0m \u001b[32m━━━━━━━━━━━━━━━━━━━━\u001b[0m\u001b[37m\u001b[0m \u001b[1m28s\u001b[0m 39ms/step - loss: 6.4722e-04 - mae: 0.0179 - val_loss: 3.9806e-04 - val_mae: 0.0130\n",
      "Epoch 4/30\n",
      "\u001b[1m716/716\u001b[0m \u001b[32m━━━━━━━━━━━━━━━━━━━━\u001b[0m\u001b[37m\u001b[0m \u001b[1m27s\u001b[0m 37ms/step - loss: 4.8339e-04 - mae: 0.0151 - val_loss: 8.6301e-04 - val_mae: 0.0212\n",
      "Epoch 5/30\n",
      "\u001b[1m716/716\u001b[0m \u001b[32m━━━━━━━━━━━━━━━━━━━━\u001b[0m\u001b[37m\u001b[0m \u001b[1m26s\u001b[0m 37ms/step - loss: 4.0567e-04 - mae: 0.0138 - val_loss: 7.2323e-04 - val_mae: 0.0229\n",
      "Epoch 6/30\n",
      "\u001b[1m716/716\u001b[0m \u001b[32m━━━━━━━━━━━━━━━━━━━━\u001b[0m\u001b[37m\u001b[0m \u001b[1m26s\u001b[0m 36ms/step - loss: 4.6068e-04 - mae: 0.0152 - val_loss: 3.7376e-04 - val_mae: 0.0122\n",
      "Epoch 7/30\n",
      "\u001b[1m716/716\u001b[0m \u001b[32m━━━━━━━━━━━━━━━━━━━━\u001b[0m\u001b[37m\u001b[0m \u001b[1m26s\u001b[0m 36ms/step - loss: 3.3336e-04 - mae: 0.0125 - val_loss: 3.4256e-04 - val_mae: 0.0112\n",
      "Epoch 8/30\n",
      "\u001b[1m716/716\u001b[0m \u001b[32m━━━━━━━━━━━━━━━━━━━━\u001b[0m\u001b[37m\u001b[0m \u001b[1m26s\u001b[0m 36ms/step - loss: 3.1271e-04 - mae: 0.0123 - val_loss: 4.1093e-04 - val_mae: 0.0129\n",
      "Epoch 9/30\n",
      "\u001b[1m716/716\u001b[0m \u001b[32m━━━━━━━━━━━━━━━━━━━━\u001b[0m\u001b[37m\u001b[0m \u001b[1m26s\u001b[0m 36ms/step - loss: 3.3925e-04 - mae: 0.0131 - val_loss: 4.0604e-04 - val_mae: 0.0131\n",
      "Epoch 10/30\n",
      "\u001b[1m716/716\u001b[0m \u001b[32m━━━━━━━━━━━━━━━━━━━━\u001b[0m\u001b[37m\u001b[0m \u001b[1m26s\u001b[0m 36ms/step - loss: 2.7698e-04 - mae: 0.0116 - val_loss: 3.5415e-04 - val_mae: 0.0120\n",
      "Epoch 11/30\n",
      "\u001b[1m716/716\u001b[0m \u001b[32m━━━━━━━━━━━━━━━━━━━━\u001b[0m\u001b[37m\u001b[0m \u001b[1m26s\u001b[0m 36ms/step - loss: 2.8334e-04 - mae: 0.0117 - val_loss: 3.8850e-04 - val_mae: 0.0141\n",
      "Epoch 12/30\n",
      "\u001b[1m716/716\u001b[0m \u001b[32m━━━━━━━━━━━━━━━━━━━━\u001b[0m\u001b[37m\u001b[0m \u001b[1m27s\u001b[0m 37ms/step - loss: 2.9232e-04 - mae: 0.0120 - val_loss: 2.7571e-04 - val_mae: 0.0099\n",
      "Epoch 13/30\n",
      "\u001b[1m716/716\u001b[0m \u001b[32m━━━━━━━━━━━━━━━━━━━━\u001b[0m\u001b[37m\u001b[0m \u001b[1m26s\u001b[0m 36ms/step - loss: 2.7066e-04 - mae: 0.0115 - val_loss: 4.4747e-04 - val_mae: 0.0141\n",
      "Epoch 14/30\n",
      "\u001b[1m716/716\u001b[0m \u001b[32m━━━━━━━━━━━━━━━━━━━━\u001b[0m\u001b[37m\u001b[0m \u001b[1m26s\u001b[0m 36ms/step - loss: 2.2845e-04 - mae: 0.0107 - val_loss: 3.2902e-04 - val_mae: 0.0111\n",
      "Epoch 15/30\n",
      "\u001b[1m716/716\u001b[0m \u001b[32m━━━━━━━━━━━━━━━━━━━━\u001b[0m\u001b[37m\u001b[0m \u001b[1m26s\u001b[0m 36ms/step - loss: 1.9233e-04 - mae: 0.0098 - val_loss: 3.9400e-04 - val_mae: 0.0140\n",
      "Epoch 16/30\n",
      "\u001b[1m716/716\u001b[0m \u001b[32m━━━━━━━━━━━━━━━━━━━━\u001b[0m\u001b[37m\u001b[0m \u001b[1m26s\u001b[0m 36ms/step - loss: 1.9046e-04 - mae: 0.0099 - val_loss: 2.9849e-04 - val_mae: 0.0106\n",
      "Epoch 17/30\n",
      "\u001b[1m716/716\u001b[0m \u001b[32m━━━━━━━━━━━━━━━━━━━━\u001b[0m\u001b[37m\u001b[0m \u001b[1m26s\u001b[0m 36ms/step - loss: 1.9534e-04 - mae: 0.0103 - val_loss: 3.5960e-04 - val_mae: 0.0118\n",
      "Epoch 18/30\n",
      "\u001b[1m716/716\u001b[0m \u001b[32m━━━━━━━━━━━━━━━━━━━━\u001b[0m\u001b[37m\u001b[0m \u001b[1m26s\u001b[0m 36ms/step - loss: 1.7713e-04 - mae: 0.0097 - val_loss: 3.0087e-04 - val_mae: 0.0109\n",
      "Epoch 19/30\n",
      "\u001b[1m716/716\u001b[0m \u001b[32m━━━━━━━━━━━━━━━━━━━━\u001b[0m\u001b[37m\u001b[0m \u001b[1m26s\u001b[0m 36ms/step - loss: 1.7164e-04 - mae: 0.0096 - val_loss: 5.8155e-04 - val_mae: 0.0171\n",
      "Epoch 20/30\n",
      "\u001b[1m716/716\u001b[0m \u001b[32m━━━━━━━━━━━━━━━━━━━━\u001b[0m\u001b[37m\u001b[0m \u001b[1m26s\u001b[0m 36ms/step - loss: 1.6584e-04 - mae: 0.0096 - val_loss: 2.9361e-04 - val_mae: 0.0103\n",
      "Epoch 21/30\n",
      "\u001b[1m716/716\u001b[0m \u001b[32m━━━━━━━━━━━━━━━━━━━━\u001b[0m\u001b[37m\u001b[0m \u001b[1m26s\u001b[0m 36ms/step - loss: 1.2041e-04 - mae: 0.0081 - val_loss: 4.1211e-04 - val_mae: 0.0150\n",
      "Epoch 22/30\n",
      "\u001b[1m716/716\u001b[0m \u001b[32m━━━━━━━━━━━━━━━━━━━━\u001b[0m\u001b[37m\u001b[0m \u001b[1m26s\u001b[0m 36ms/step - loss: 1.3856e-04 - mae: 0.0087 - val_loss: 3.2777e-04 - val_mae: 0.0117\n",
      "Epoch 23/30\n",
      "\u001b[1m716/716\u001b[0m \u001b[32m━━━━━━━━━━━━━━━━━━━━\u001b[0m\u001b[37m\u001b[0m \u001b[1m27s\u001b[0m 38ms/step - loss: 1.2264e-04 - mae: 0.0081 - val_loss: 3.0187e-04 - val_mae: 0.0108\n",
      "Epoch 24/30\n",
      "\u001b[1m716/716\u001b[0m \u001b[32m━━━━━━━━━━━━━━━━━━━━\u001b[0m\u001b[37m\u001b[0m \u001b[1m28s\u001b[0m 39ms/step - loss: 1.2669e-04 - mae: 0.0083 - val_loss: 3.3333e-04 - val_mae: 0.0118\n",
      "Epoch 25/30\n",
      "\u001b[1m716/716\u001b[0m \u001b[32m━━━━━━━━━━━━━━━━━━━━\u001b[0m\u001b[37m\u001b[0m \u001b[1m28s\u001b[0m 39ms/step - loss: 1.1009e-04 - mae: 0.0079 - val_loss: 3.2846e-04 - val_mae: 0.0118\n",
      "Epoch 26/30\n",
      "\u001b[1m716/716\u001b[0m \u001b[32m━━━━━━━━━━━━━━━━━━━━\u001b[0m\u001b[37m\u001b[0m \u001b[1m27s\u001b[0m 38ms/step - loss: 1.3399e-04 - mae: 0.0082 - val_loss: 3.0159e-04 - val_mae: 0.0107\n",
      "Epoch 27/30\n",
      "\u001b[1m716/716\u001b[0m \u001b[32m━━━━━━━━━━━━━━━━━━━━\u001b[0m\u001b[37m\u001b[0m \u001b[1m27s\u001b[0m 38ms/step - loss: 1.0060e-04 - mae: 0.0076 - val_loss: 3.0122e-04 - val_mae: 0.0111\n",
      "Epoch 28/30\n",
      "\u001b[1m716/716\u001b[0m \u001b[32m━━━━━━━━━━━━━━━━━━━━\u001b[0m\u001b[37m\u001b[0m \u001b[1m27s\u001b[0m 38ms/step - loss: 9.0757e-05 - mae: 0.0071 - val_loss: 2.6673e-04 - val_mae: 0.0095\n",
      "Epoch 29/30\n",
      "\u001b[1m716/716\u001b[0m \u001b[32m━━━━━━━━━━━━━━━━━━━━\u001b[0m\u001b[37m\u001b[0m \u001b[1m27s\u001b[0m 38ms/step - loss: 7.7119e-05 - mae: 0.0066 - val_loss: 2.9638e-04 - val_mae: 0.0103\n",
      "Epoch 30/30\n",
      "\u001b[1m716/716\u001b[0m \u001b[32m━━━━━━━━━━━━━━━━━━━━\u001b[0m\u001b[37m\u001b[0m \u001b[1m27s\u001b[0m 38ms/step - loss: 8.8825e-05 - mae: 0.0070 - val_loss: 3.1494e-04 - val_mae: 0.0116\n"
     ]
    }
   ],
   "source": [
    "history = model.fit(x_train,y_train, epochs=30, batch_size=batch_size,\n",
    "                    validation_data=(x_valid,y_valid),\n",
    "                    )"
   ]
  },
  {
   "cell_type": "markdown",
   "metadata": {},
   "source": [
    "損失関数のプロット"
   ]
  },
  {
   "cell_type": "code",
   "execution_count": 31,
   "metadata": {},
   "outputs": [
    {
     "data": {
      "text/plain": [
       "<function matplotlib.pyplot.show(close=None, block=None)>"
      ]
     },
     "execution_count": 31,
     "metadata": {},
     "output_type": "execute_result"
    },
    {
     "data": {
      "image/png": "[encoded data removed]",
      "text/plain": [
       "<Figure size 640x480 with 1 Axes>"
      ]
     },
     "metadata": {},
     "output_type": "display_data"
    }
   ],
   "source": [
    "history_di= history.history\n",
    "loss= history_di[\"loss\"]\n",
    "val= history_di[\"val_loss\"]\n",
    "\n",
    "epochs=range(1,len(loss)+1)\n",
    "\n",
    "plt.plot(epochs,loss,\"bo\",label=\"train\")\n",
    "plt.plot(epochs,val,\"b\",label=\"val\")\n",
    "# plt.xlim(1,100)\n",
    "# plt.ylim(50,20000)\n",
    "plt.legend()\n",
    "plt.show"
   ]
  },
  {
   "cell_type": "markdown",
   "metadata": {},
   "source": [
    "テストデータのロード"
   ]
  },
  {
   "cell_type": "code",
   "execution_count": 32,
   "metadata": {},
   "outputs": [],
   "source": [
    "# with open(\"data_set/test/72bit_map_data.pkl\", \"rb\") as f:\n",
    "#     test_in_deep_data= pickle.load(f)"
   ]
  },
  {
   "cell_type": "code",
   "execution_count": 33,
   "metadata": {},
   "outputs": [],
   "source": [
    "# with open(\"data_set/test/72bit_cost_only_m.pkl\", \"rb\") as f:\n",
    "#     test_only_m= pickle.load(f)\n",
    "    \n",
    "# test_only_m=np.expand_dims(test_only_m,axis=-1)"
   ]
  },
  {
   "cell_type": "code",
   "execution_count": 34,
   "metadata": {},
   "outputs": [],
   "source": [
    "with open(\"../data_set/test/randam/9map_2/filter_each_conbine_astar_map.pkl\", \"rb\") as f:\n",
    "    test_only_m = pickle.load(f)"
   ]
  },
  {
   "cell_type": "code",
   "execution_count": 35,
   "metadata": {},
   "outputs": [
    {
     "name": "stdout",
     "output_type": "stream",
     "text": [
      "(1922, 18, 18, 3)\n"
     ]
    }
   ],
   "source": [
    "# T=np.array(test_in_deep_data)\n",
    "T=np.array(test_only_m)\n",
    "\n",
    "print(T.shape)"
   ]
  },
  {
   "cell_type": "code",
   "execution_count": 36,
   "metadata": {},
   "outputs": [],
   "source": [
    "# with open(\"data_set/test_label/lock_sg_2/72bit_cost_labels.pkl\", \"rb\") as f:\n",
    "#     test_labels= pickle.load(f)"
   ]
  },
  {
   "cell_type": "code",
   "execution_count": 37,
   "metadata": {},
   "outputs": [],
   "source": [
    "\n",
    "with open(\"../data_set/test_label/randam/9map_2/notinf_cost_labels.pkl\", \"rb\") as f:\n",
    "    test_labels= pickle.load(f)"
   ]
  },
  {
   "cell_type": "code",
   "execution_count": 38,
   "metadata": {},
   "outputs": [
    {
     "name": "stdout",
     "output_type": "stream",
     "text": [
      "[[48]\n",
      " [47]\n",
      " [27]\n",
      " ...\n",
      " [38]\n",
      " [36]\n",
      " [20]]\n"
     ]
    }
   ],
   "source": [
    "test_labels=np.array(test_labels)\n",
    "test_labels=test_labels.reshape((len(test_labels),1))\n",
    "# print(test_labels)\n",
    "print((test_labels))"
   ]
  },
  {
   "cell_type": "markdown",
   "metadata": {},
   "source": [
    "予測"
   ]
  },
  {
   "cell_type": "code",
   "execution_count": 49,
   "metadata": {},
   "outputs": [
    {
     "name": "stdout",
     "output_type": "stream",
     "text": [
      "\u001b[1m61/61\u001b[0m \u001b[32m━━━━━━━━━━━━━━━━━━━━\u001b[0m\u001b[37m\u001b[0m \u001b[1m1s\u001b[0m 8ms/step\n",
      "(1922, 1)\n",
      "0.6070818901062012\n"
     ]
    }
   ],
   "source": [
    "start_time = time.time()  # 予測開始時刻を記録\n",
    "# pre_cost = model.predict(T)\n",
    "y_pred_normalized = model.predict(T)\n",
    "\n",
    "end_time = time.time()  # 予測終了時刻を記録\n",
    "pre_cost = scaler.inverse_transform(y_pred_normalized)\n",
    "elapsed_time = end_time - start_time\n",
    "\n",
    "print(pre_cost.shape)\n",
    "print(elapsed_time)\n",
    "\n"
   ]
  },
  {
   "cell_type": "code",
   "execution_count": null,
   "metadata": {},
   "outputs": [],
   "source": [
    "for i in range(len(test_labels)):\n",
    "    print(test_labels[i],pre_cost[i])\n"
   ]
  },
  {
   "cell_type": "code",
   "execution_count": 41,
   "metadata": {},
   "outputs": [
    {
     "name": "stdout",
     "output_type": "stream",
     "text": [
      "予測時間: 0.7432秒\n",
      "[79.471756] (array([1702], dtype=int64), array([0], dtype=int64))\n",
      "[8.876489] (array([1847], dtype=int64), array([0], dtype=int64))\n",
      "(1922, 1)\n"
     ]
    }
   ],
   "source": [
    "max_cost=max(pre_cost)\n",
    "max_index=np.where(pre_cost==max_cost)\n",
    "\n",
    "min_cost=min(pre_cost)\n",
    "min_index=np.where(pre_cost==min_cost)\n",
    "\n",
    "print(f\"予測時間: {elapsed_time:.4f}秒\")\n",
    "# print(pre_cost)\n",
    "print(max_cost,max_index)\n",
    "print(min_cost,min_index)\n",
    "\n",
    "print(pre_cost.shape)"
   ]
  },
  {
   "cell_type": "code",
   "execution_count": 42,
   "metadata": {},
   "outputs": [],
   "source": [
    "from mlmodel.mk_model import separate_m_start_goal"
   ]
  },
  {
   "cell_type": "markdown",
   "metadata": {},
   "source": [
    "比較する"
   ]
  },
  {
   "cell_type": "code",
   "execution_count": 55,
   "metadata": {},
   "outputs": [],
   "source": [
    "pre_cost=np.round(pre_cost)\n",
    "y=pre_cost.reshape((len(pre_cost),1))"
   ]
  },
  {
   "cell_type": "code",
   "execution_count": 54,
   "metadata": {},
   "outputs": [],
   "source": [
    "a= abs(y-test_labels)\n",
    "# print(a)"
   ]
  },
  {
   "cell_type": "code",
   "execution_count": 56,
   "metadata": {},
   "outputs": [
    {
     "name": "stdout",
     "output_type": "stream",
     "text": [
      "[10.]\n",
      "[0.96201873]\n"
     ]
    }
   ],
   "source": [
    "max_dev=max(a)\n",
    "print(max_dev)\n",
    "\n",
    "mean = sum(a)/len(a)\n",
    "print(mean)"
   ]
  },
  {
   "cell_type": "code",
   "execution_count": 47,
   "metadata": {},
   "outputs": [
    {
     "name": "stdout",
     "output_type": "stream",
     "text": [
      "(1922,)\n"
     ]
    }
   ],
   "source": [
    "with open(f\"../data_set/test_label/randam/9map_2/astar/notinf_cost_labels.pkl\",\"rb\") as f:\n",
    "    astar_cost=pickle.load(f)\n",
    "    \n",
    "z=np.array(astar_cost)\n",
    "print(z.shape)\n",
    "z=z.reshape((len(z),))\n"
   ]
  },
  {
   "cell_type": "code",
   "execution_count": 48,
   "metadata": {},
   "outputs": [
    {
     "name": "stderr",
     "output_type": "stream",
     "text": [
      "C:\\Users\\mochizuki\\AppData\\Local\\Temp\\ipykernel_32416\\1301027628.py:42: UserWarning: No artists with labels found to put in legend.  Note that artists whose label start with an underscore are ignored when legend() is called with no argument.\n",
      "  plt.legend()\n"
     ]
    },
    {
     "data": {
      "image/png": "[encoded data removed]",
      "text/plain": [
       "<Figure size 640x480 with 1 Axes>"
      ]
     },
     "metadata": {},
     "output_type": "display_data"
    }
   ],
   "source": [
    "import numpy as np\n",
    "import matplotlib.pyplot as plt\n",
    "\n",
    "pre_cost=np.round(pre_cost)\n",
    "y=pre_cost.reshape((len(pre_cost),))  # Adjust the length of x to match y\n",
    "x = test_labels.reshape((len(test_labels),))\n",
    "\n",
    "# d=np.array(pre_cost)\n",
    "# d=d.reshape((549,))\n",
    "\n",
    "w=x+z #real cost\n",
    "#precost\n",
    "A=(w-z-y)\n",
    "# plt.scatter(x,A)\n",
    "# plt.scatter(w,A)\n",
    "# plt.scatter(w,x)\n",
    "# plt.scatter(w, y+z,label=\"proposed method\")\n",
    "# plt.scatter(w,z,color=\"orange\",label=\"astar cost\")\n",
    "# plt.xlabel('real cost - A*cost')  # 必要に応じてラベルを追加\n",
    "# plt.ylabel('real cost - predict cost')\n",
    "bins=np.arange(-20, 20, 1)\n",
    "# plt.hist(x-z, bins=\"auto\", edgecolor='black')\n",
    "plt.hist(A, bins=bins, edgecolor='black')\n",
    "\n",
    "plt.ylim(0,1900)\n",
    "# fig, ax = plt.subplots()\n",
    "\n",
    "# step4 箱ひげ図の描画\n",
    "# 一般的な箱ひげ図\n",
    "# ax.boxplot([x,A])\n",
    "\n",
    "\n",
    "# y=xの直線を追加\n",
    "# plt.plot(w, w, color='red', label='y=x')\n",
    "\n",
    "# plt.plot(x, x, color='red', label='y=x')\n",
    "\n",
    "# plt.plot(x, x+10, color='red', label='y=x')\n",
    "# plt.plot(x, x-10, color='red', label='y=x')\n",
    "\n",
    "\n",
    "plt.legend()\n",
    "plt.show()"
   ]
  },
  {
   "cell_type": "code",
   "execution_count": null,
   "metadata": {},
   "outputs": [],
   "source": [
    "model.save(\"../data_set/model/more_inf_linear_9map.keras\")"
   ]
  },
  {
   "cell_type": "code",
   "execution_count": null,
   "metadata": {},
   "outputs": [],
   "source": [
    "# 使用例\n",
    "# X_trainの最初の1枚だけを使用してテスト\n",
    "sample_data = T[0:1]  # バッチサイズ1で取得\n",
    "activations = get_intermediate_outputs(sample_data)\n",
    "\n",
    "# 可視化関数\n",
    "def visualize_layer_outputs(activations, layer_names):\n",
    "    \n",
    "    for activation, name in zip(activations, layer_names):\n",
    "        if len(activation.shape) == 4:  # 畳み込み層の出力\n",
    "            n_features = min(20, activation.shape[-1])\n",
    "            print(n_features)\n",
    "            plt.figure(figsize=(12, 8))\n",
    "            for i in range(n_features):\n",
    "                plt.subplot(5, 4, i + 1)\n",
    "                plt.imshow(activation[0, :, :, i], cmap='viridis')\n",
    "                plt.axis('off')\n",
    "            plt.suptitle(f'Feature maps of {name} layer')\n",
    "            plt.show()\n",
    "        elif len(activation.shape) == 2:  # 全結合層の出力\n",
    "            plt.figure(figsize=(8, 4))\n",
    "            plt.hist(activation[0], bins=50)#histgram\n",
    "            plt.title(f'Activation distribution of {name} layer')\n",
    "            plt.xlabel('Activation value')\n",
    "            plt.ylabel('Frequency')\n",
    "            plt.show()\n",
    "\n",
    "# 可視化の実行\n",
    "visualize_layer_outputs(activations, layer_names)"
   ]
  },
  {
   "cell_type": "code",
   "execution_count": null,
   "metadata": {},
   "outputs": [
    {
     "name": "stdout",
     "output_type": "stream",
     "text": [
      "good,bad,equal\n",
      "907 459 282 73\n"
     ]
    }
   ],
   "source": [
    "counter=0\n",
    "co=0\n",
    "c=0\n",
    "zero=0\n",
    "\n",
    "d=abs(y-x)\n",
    "e=abs(x-z)\n",
    "\n",
    "for i in range(len(y)):\n",
    "    \n",
    "\n",
    "    if d[i]<e[i]:\n",
    "        counter=counter+1\n",
    "    elif e[i]<d[i]:\n",
    "        co=co+1\n",
    "    \n",
    "    elif e[i]==d[i]:\n",
    "        if e[i]==0:\n",
    "            zero=zero+1\n",
    "        c=c+1\n",
    "    \n",
    "print(f\"good,bad,equal\")\n",
    "print(counter,co,c,zero)\n",
    "\n"
   ]
  },
  {
   "cell_type": "code",
   "execution_count": null,
   "metadata": {},
   "outputs": [
    {
     "name": "stdout",
     "output_type": "stream",
     "text": [
      "0.4875130072840791\n"
     ]
    }
   ],
   "source": [
    "count=0\n",
    "\n",
    "for i in range(len(y)):\n",
    "    if x[i]==y[i]:\n",
    "        count=count+1\n",
    "\n",
    "accuracy=count/len(y)\n",
    "\n",
    "print(accuracy)"
   ]
  },
  {
   "cell_type": "code",
   "execution_count": null,
   "metadata": {},
   "outputs": [
    {
     "name": "stdout",
     "output_type": "stream",
     "text": [
      "0.45813106796116504 3.516990291262136\n"
     ]
    }
   ],
   "source": [
    "\n",
    "sum_A=sum(A)\n",
    "\n",
    "sum_t=sum(e)\n",
    "\n",
    "print(sum_A/1648,sum_t/1648)"
   ]
  },
  {
   "cell_type": "code",
   "execution_count": null,
   "metadata": {},
   "outputs": [],
   "source": [
    "counter=0\n",
    "for pred,real in zip(pre_cost,test_labels):\n",
    "    threshold=1\n",
    "    \n",
    "    diff=abs(pred-real)\n",
    "    \n",
    "    if diff < threshold:\n",
    "        counter=counter+1\n",
    "    else :\n",
    "        print(diff)\n",
    "        \n",
    "print(counter)\n",
    "true_rate=counter/549\n",
    "print(true_rate)"
   ]
  },
  {
   "cell_type": "code",
   "execution_count": 57,
   "metadata": {},
   "outputs": [
    {
     "data": {
      "image/png": "[encoded data removed]",
      "text/plain": [
       "<Figure size 640x480 with 1 Axes>"
      ]
     },
     "metadata": {},
     "output_type": "display_data"
    }
   ],
   "source": [
    "\n",
    "\n",
    "# y=pre_cost.reshape((549,))  # Adjust the length of x to match y\n",
    "# x = test_labels.reshape((549,))\n",
    "\n",
    "plt.scatter(x, y)\n",
    "# plt.scatter(x,z,color=\"orange\")\n",
    "plt.xlabel('real cost')  # 必要に応じてラベルを追加\n",
    "plt.ylabel('predict cost')\n",
    "\n",
    "# y=xの直線を追加\n",
    "plt.plot(x, x, color='red', label='y=x')\n",
    "\n",
    "# plt.plot(x, x+10, color='red', label='y=x')\n",
    "# plt.plot(x, x-10, color='red', label='y=x')\n",
    "\n",
    "\n",
    "\n",
    "plt.show()"
   ]
  }
 ],
 "metadata": {
  "kernelspec": {
   "display_name": ".venv",
   "language": "python",
   "name": "python3"
  },
  "language_info": {
   "codemirror_mode": {
    "name": "ipython",
    "version": 3
   },
   "file_extension": ".py",
   "mimetype": "text/x-python",
   "name": "python",
   "nbconvert_exporter": "python",
   "pygments_lexer": "ipython3",
   "version": "3.11.9"
  }
 },
 "nbformat": 4,
 "nbformat_minor": 2
}
